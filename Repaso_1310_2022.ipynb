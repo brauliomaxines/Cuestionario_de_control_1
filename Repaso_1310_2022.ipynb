{
  "nbformat": 4,
  "nbformat_minor": 0,
  "metadata": {
    "colab": {
      "name": "Repaso_1310_2022.ipynb",
      "provenance": [],
      "collapsed_sections": [
        "byK4OKHNfM3w",
        "dpIoRyTHk7YN",
        "xl5QmR7fndn5",
        "cIUB7Qa5oRd4",
        "pGbjsSLkGEkH",
        "SoVEZC1tKfdr",
        "Jtq0M4xzPZ4d",
        "LC7T9QbrY5Wn",
        "yJFs9IspJQBh",
        "00A3eUgIbYL2",
        "iqTtOZCkMDLZ",
        "AZYnGunQSty3",
        "yUzRBPmFlO6Z",
        "hxbFyFSZX-d9",
        "jqCCgBEEo1DH",
        "v_GB7i73sZBa",
        "pdHpdT9Yt-Of",
        "SMxBNx6ZKj0T",
        "Wsc0td2_XJM8"
      ]
    },
    "kernelspec": {
      "name": "python3",
      "display_name": "Python 3"
    },
    "language_info": {
      "name": "python"
    }
  },
  "cells": [
    {
      "cell_type": "markdown",
      "metadata": {
        "id": "byK4OKHNfM3w"
      },
      "source": [
        "# repaso de programación con python 3\n",
        "\n",
        "### EDD 1310\n",
        "\n",
        "funcion print\n",
        "1. utilizando comillas dobles\n",
        "1. Utilizando el signo \",\"\n",
        "1. utilizando \"+\"\n",
        "1. utilizando la función format\n",
        "1. utilizando el operador f\""
      ]
    },
    {
      "cell_type": "markdown",
      "metadata": {
        "id": "cytPAAZ-fMwV"
      },
      "source": [
        ""
      ]
    },
    {
      "cell_type": "code",
      "metadata": {
        "colab": {
          "base_uri": "https://localhost:8080/"
        },
        "id": "DtWLLX00b2Hd",
        "outputId": "5ef64488-5a7c-438c-95eb-172001b3445c"
      },
      "source": [
        "\n",
        "print( \"hola mundo\" )\n",
        "print( 'hola mundo' )\n",
        "\n",
        "nombre = \"Braulio\"\n",
        "carrera = \"Ingenieria en computación\"\n",
        "\n",
        "print(nombre)\n",
        "\n",
        "print(\"hola\" , nombre )\n",
        "print(\"hola\" + nombre )\n",
        "\n",
        "print(\"Tu nombre es \" , nombre , \" y estudiaste\" , carrera)\n",
        "\n",
        "# con formas\n",
        "print(\"Tu nombre es {0} y estudiaste {1}\".format( nombre , carrera ) )\n",
        "\n",
        "# con el operador f\"\"\n",
        "print( f\"Tu nombre es {nombre} y estudiaste {carrera}\")\n",
        "\n",
        "# salto de linea\n",
        "\n",
        "print(nombre , end=\"\\n\")\n",
        "print(\" \", end=\"\")\n",
        "print(carrera, end=\"\")"
      ],
      "execution_count": null,
      "outputs": [
        {
          "output_type": "stream",
          "name": "stdout",
          "text": [
            "hola mundo\n",
            "hola mundo\n",
            "Braulio\n",
            "hola Braulio\n",
            "holaBraulio\n",
            "Tu nombre es  Braulio  y estudiaste Ingenieria en computación\n",
            "Tu nombre es Braulio y estudiaste Ingenieria en computación\n",
            "Tu nombre es Braulio y estudiaste Ingenieria en computación\n",
            "Braulio\n",
            " Ingenieria en computación"
          ]
        }
      ]
    },
    {
      "cell_type": "markdown",
      "metadata": {
        "id": "dpIoRyTHk7YN"
      },
      "source": [
        "# Entrada de datos \n",
        "\n",
        "funcion input()\n",
        "\n",
        "sirve para pedir datos al usuario, equivalente al scanf del leng \"c\" o a la clase Scanner de java\n",
        "\n",
        "siempre regresa un string"
      ]
    },
    {
      "cell_type": "code",
      "metadata": {
        "colab": {
          "base_uri": "https://localhost:8080/"
        },
        "id": "fWn8toSYlQdk",
        "outputId": "5121cb5c-3ae9-487c-c580-fd786957a405"
      },
      "source": [
        "nombre = input(\"introduce tu nombre: \")\n",
        "print(nombre)\n",
        "\n",
        "semestre = input(\"en que semestre estas: \")\n",
        "print(semestre)\n",
        "semestre = int(semestre) + 1\n",
        "print(semestre)\n",
        "semestre = semestre + 1 #ya es entera\n",
        "print(semestre)\n",
        "\n",
        "semestre = int( input(\"cual es tu semestre: \"))\n",
        "semestre = semestre +1\n",
        "print(semestre)"
      ],
      "execution_count": null,
      "outputs": [
        {
          "output_type": "stream",
          "name": "stdout",
          "text": [
            "introduce tu nombre: Braulio\n",
            "Braulio\n",
            "en que semestre estas: 22\n",
            "22\n",
            "23\n",
            "24\n",
            "cual es tu semestre: 3\n",
            "4\n"
          ]
        }
      ]
    },
    {
      "cell_type": "markdown",
      "metadata": {
        "id": "xl5QmR7fndn5"
      },
      "source": [
        "### TAREA MORAL\n",
        "investigar los siguientes conceptos en phyton\n",
        "\n",
        "-Operadores\n",
        "  -Aritmeticos\n",
        "  -lógicos\n",
        "  -Booleanos (and, or, not)\n",
        "-Aritmetica\n",
        "  -Asignacion\n",
        "  -agrupacion de ecuaciones con parentesis ( precedencia de operadores)\n",
        "\n",
        "-Comentarios\n",
        "  -De simple linea\n",
        "  -De linea multiple\n",
        "\n",
        "-Tipos de datos en python"
      ]
    },
    {
      "cell_type": "markdown",
      "metadata": {
        "id": "cIUB7Qa5oRd4"
      },
      "source": [
        "# Repaso del tipo de dato string (str)\n",
        "\n",
        "Es un tipo de dato muy versatil. Los tipos de dato en python en realidad son objetos (POO), es decir tiene atrivutos y metodos.\n",
        "\n",
        "Los valores internos de un string se almacenan como un arreglo.\n",
        "Es decir se acceden a los elementos con el_operador [ indice ]"
      ]
    },
    {
      "cell_type": "code",
      "metadata": {
        "colab": {
          "base_uri": "https://localhost:8080/"
        },
        "id": "1PUeSZW3pBnS",
        "outputId": "ac75d6d8-9945-456d-8dd7-146439ba1e53"
      },
      "source": [
        "frase = \"El conocimiento me persigue... pero yo soy mas rápido!!+\"\n",
        "\n",
        "# como se almacena la informacion\n",
        "print(frase[ 3 ])\n",
        "\n",
        "print(len( frase )) \n",
        "\n",
        "print( frase[55] )\n",
        "\n",
        "#indexado negativo\n",
        "print( frase[-8])\n",
        "\n",
        "# Iterar sobre un string\n",
        "for letra in frase:\n",
        "    print(letra)\n",
        "print(\"fin\")"
      ],
      "execution_count": null,
      "outputs": [
        {
          "output_type": "stream",
          "name": "stdout",
          "text": [
            "c\n",
            "56\n",
            "+\n",
            "á\n",
            "E\n",
            "l\n",
            " \n",
            "c\n",
            "o\n",
            "n\n",
            "o\n",
            "c\n",
            "i\n",
            "m\n",
            "i\n",
            "e\n",
            "n\n",
            "t\n",
            "o\n",
            " \n",
            "m\n",
            "e\n",
            " \n",
            "p\n",
            "e\n",
            "r\n",
            "s\n",
            "i\n",
            "g\n",
            "u\n",
            "e\n",
            ".\n",
            ".\n",
            ".\n",
            " \n",
            "p\n",
            "e\n",
            "r\n",
            "o\n",
            " \n",
            "y\n",
            "o\n",
            " \n",
            "s\n",
            "o\n",
            "y\n",
            " \n",
            "m\n",
            "a\n",
            "s\n",
            " \n",
            "r\n",
            "á\n",
            "p\n",
            "i\n",
            "d\n",
            "o\n",
            "!\n",
            "!\n",
            "+\n",
            "fin\n"
          ]
        }
      ]
    },
    {
      "cell_type": "markdown",
      "metadata": {
        "id": "pGbjsSLkGEkH"
      },
      "source": [
        "# slicing (rebanado)\n",
        "\n",
        "Es posible seleccionar segmentos de una lista (str) por medio de la sintaxis '[ <inicio> : <Tope> : <incremento> ]'\n",
        "\n",
        "inicio = 0 , -1\n",
        "tope = tamaño de la lista (str), no incluye el tope, 0\n",
        "incremento = 1, -1\n",
        "\n"
      ]
    },
    {
      "cell_type": "code",
      "metadata": {
        "colab": {
          "base_uri": "https://localhost:8080/"
        },
        "id": "QAXXZgTfHDtc",
        "outputId": "bf2a29b0-dca4-4ab3-f1a9-285fb38b8bb4"
      },
      "source": [
        "nombre = \"Facultad de Estudios Superiores Aragón\"\n",
        "\n",
        "print( nombre[0] )\n",
        "print( nombre[-1] )\n",
        "\n",
        "#slicing\n",
        "print( nombre[2 : 5 : 1] )\n",
        "print( nombre [0 : 8 : 1 ])\n",
        "\n",
        "# slicing con indexado negativo (-)\n",
        "\n",
        "print( nombre[ -6 :  : 1] )\n",
        "\n",
        "print( nombre[7 :  : -1])"
      ],
      "execution_count": null,
      "outputs": [
        {
          "output_type": "stream",
          "name": "stdout",
          "text": [
            "F\n",
            "n\n",
            "cul\n",
            "Facultad\n",
            "Aragón\n",
            "datlucaF\n"
          ]
        }
      ]
    },
    {
      "cell_type": "markdown",
      "metadata": {
        "id": "SoVEZC1tKfdr"
      },
      "source": [
        "# String como objeto\n",
        "El tipo de dato string es una clase por lo tanto tiene atributos y metodos\n",
        "\n",
        "## Ayuda en linea de python\n",
        "\n",
        "Hay dos funciones que te dan ayuda en python \n",
        " 1. dir()\n",
        " 1. help()\n",
        " archivo .csv = archivo separado por comas"
      ]
    },
    {
      "cell_type": "code",
      "metadata": {
        "colab": {
          "base_uri": "https://localhost:8080/"
        },
        "id": "TzpEAmy_Kyoq",
        "outputId": "b0825044-e9c0-4fb1-fdcb-32b92c7f3738"
      },
      "source": [
        "dir(str)"
      ],
      "execution_count": null,
      "outputs": [
        {
          "output_type": "execute_result",
          "data": {
            "text/plain": [
              "['__add__',\n",
              " '__class__',\n",
              " '__contains__',\n",
              " '__delattr__',\n",
              " '__dir__',\n",
              " '__doc__',\n",
              " '__eq__',\n",
              " '__format__',\n",
              " '__ge__',\n",
              " '__getattribute__',\n",
              " '__getitem__',\n",
              " '__getnewargs__',\n",
              " '__gt__',\n",
              " '__hash__',\n",
              " '__init__',\n",
              " '__init_subclass__',\n",
              " '__iter__',\n",
              " '__le__',\n",
              " '__len__',\n",
              " '__lt__',\n",
              " '__mod__',\n",
              " '__mul__',\n",
              " '__ne__',\n",
              " '__new__',\n",
              " '__reduce__',\n",
              " '__reduce_ex__',\n",
              " '__repr__',\n",
              " '__rmod__',\n",
              " '__rmul__',\n",
              " '__setattr__',\n",
              " '__sizeof__',\n",
              " '__str__',\n",
              " '__subclasshook__',\n",
              " 'capitalize',\n",
              " 'casefold',\n",
              " 'center',\n",
              " 'count',\n",
              " 'encode',\n",
              " 'endswith',\n",
              " 'expandtabs',\n",
              " 'find',\n",
              " 'format',\n",
              " 'format_map',\n",
              " 'index',\n",
              " 'isalnum',\n",
              " 'isalpha',\n",
              " 'isascii',\n",
              " 'isdecimal',\n",
              " 'isdigit',\n",
              " 'isidentifier',\n",
              " 'islower',\n",
              " 'isnumeric',\n",
              " 'isprintable',\n",
              " 'isspace',\n",
              " 'istitle',\n",
              " 'isupper',\n",
              " 'join',\n",
              " 'ljust',\n",
              " 'lower',\n",
              " 'lstrip',\n",
              " 'maketrans',\n",
              " 'partition',\n",
              " 'replace',\n",
              " 'rfind',\n",
              " 'rindex',\n",
              " 'rjust',\n",
              " 'rpartition',\n",
              " 'rsplit',\n",
              " 'rstrip',\n",
              " 'split',\n",
              " 'splitlines',\n",
              " 'startswith',\n",
              " 'strip',\n",
              " 'swapcase',\n",
              " 'title',\n",
              " 'translate',\n",
              " 'upper',\n",
              " 'zfill']"
            ]
          },
          "metadata": {},
          "execution_count": 10
        }
      ]
    },
    {
      "cell_type": "code",
      "metadata": {
        "colab": {
          "base_uri": "https://localhost:8080/"
        },
        "id": "-9Quk3OALTGQ",
        "outputId": "5c0045dd-5071-4eaa-dddc-c13a156645b0"
      },
      "source": [
        "apellidos = \"aguilar maxines\"\n",
        "\n",
        "print ( apellidos.capitalize() )\n",
        "print ( apellidos.title() )\n",
        "print (apellidos.find('a') )\n",
        "print ( \"AGUILAR MAXINES\".lower() )\n",
        "print ( apellidos.upper() )\n",
        "\n",
        "\n",
        "numeros = \"     1, 2 ,   3,     ,4,5,6    \"\n",
        "num_divididos = numeros.strip().split(',')\n",
        "print( num_divididos )\n",
        "\n",
        "num_divididos[0] = num_divididos[0].strip()\n",
        "num_divididos[1] = num_divididos[1].strip()\n",
        "num_divididos[2] = num_divididos[2].strip()\n",
        "num_divididos[3] = num_divididos[3].strip()\n",
        "num_divididos[4] = num_divididos[4].strip()\n",
        "num_divididos[5] = num_divididos[5].strip()\n",
        "num_divididos[6] = num_divididos[6].strip()\n",
        "print ( num_divididos )\n",
        "\n",
        "for elem in num_divididos:\n",
        "    print( elem )\n",
        "\n",
        "for index in range(6):\n",
        "    num_divididos(index) = num_divididos[index].strip()"
      ],
      "execution_count": null,
      "outputs": [
        {
          "output_type": "stream",
          "name": "stdout",
          "text": [
            "Aguilar maxines\n",
            "Aguilar Maxines\n",
            "0\n",
            "aguilar maxines\n",
            "AGUILAR MAXINES\n",
            "['1', ' 2 ', '   3', '     ', '4', '5', '6']\n",
            "['1', '2', '3', '', '4', '5', '6']\n",
            "1\n",
            "2\n",
            "3\n",
            "\n",
            "4\n",
            "5\n",
            "6\n"
          ]
        }
      ]
    },
    {
      "cell_type": "markdown",
      "metadata": {
        "id": "Jtq0M4xzPZ4d"
      },
      "source": [
        "# Estructuras de control\n",
        "\n",
        "## if\n",
        "\n",
        "## if- else\n",
        "\n",
        "##switch - case (en python se implementa con if\n",
        "\n",
        "##for\n",
        "\n",
        "##while y do-while"
      ]
    },
    {
      "cell_type": "code",
      "metadata": {
        "colab": {
          "base_uri": "https://localhost:8080/"
        },
        "id": "6nr1KQsNPv5U",
        "outputId": "ceeef4ce-feab-4f88-d8dc-b06dd60770cf"
      },
      "source": [
        "# if\n",
        "a = 2\n",
        "b = 7\n",
        "c = 4\n",
        "print( a > b)\n",
        "\n",
        "if a > b :\n",
        "    print(\"Estamos en el if\")\n",
        "    print(\"A es mayor que B\")\n",
        "print(\"Fin del programa\")\n",
        "\n",
        "######## Anidar if´s\n",
        "if c > a:\n",
        "    if c > b:\n",
        "        print(\"c es el mayor de los tres\")\n",
        "\n",
        "if c > a and c > b:\n",
        "    print(\"c es el mayor de los tres\")\n",
        "\n",
        "# if else, cual de las tres(a,b.c) variables es la mayor\n",
        "if a > b:\n",
        "    if a > c:\n",
        "        print(\"A es la mayor\")\n",
        "    else:\n",
        "        print(\"C es la mayor\")\n",
        "else:\n",
        "    if b > c:\n",
        "        print(\"B es la mayor\")\n",
        "    else:\n",
        "        print(\"C es la mayor\")\n",
        "\n",
        "#if - else tiene una notacion especial cuando se encadena un if dentro de un else\n",
        "\n",
        "if a > b:\n",
        "    if a > c:\n",
        "        print(\"A es la mayor\")\n",
        "    else:\n",
        "        print(\"C es la mayor\")\n",
        "elif b > c:\n",
        "        print(\"B es la mayor\")\n",
        "else:\n",
        "    print(\"C es la mayor\")\n",
        "\n",
        "# Pedir al usuario un numero entre 1 y 7, e imprimir el dia de la semana que corresponda\n",
        "opcion = int(input(\"introduce un numero entre 1 y 7\"))\n",
        "\n",
        "if opcion > 0 and opcion < 8:\n",
        "    if opcion == 1:\n",
        "        print(\"lunes\")\n",
        "    elif opcion == 2:\n",
        "        print(\"Martes\")\n",
        "    elif opcion == 3:\n",
        "        print(\"Miercoles\")\n",
        "    elif opcion == 4:\n",
        "        print(\"Jueves\")\n",
        "    elif opcion == 5:\n",
        "        print(\"Viernes\")\n",
        "    elif opcion == 6:\n",
        "        print(\"Sabado\")\n",
        "    elif opcion == 7:\n",
        "        print(\"Domingo\")\n",
        "\n",
        "\n",
        "else:\n",
        "    print(\"Tu dato esta fuera de lo solicitado\")"
      ],
      "execution_count": null,
      "outputs": [
        {
          "output_type": "stream",
          "name": "stdout",
          "text": [
            "False\n",
            "Fin del programa\n",
            "B es la mayor\n",
            "B es la mayor\n",
            "introduce un numero entre 1 y 77\n",
            "Domingo\n"
          ]
        }
      ]
    },
    {
      "cell_type": "code",
      "metadata": {
        "colab": {
          "base_uri": "https://localhost:8080/"
        },
        "id": "5rRier8DU6lZ",
        "outputId": "c71e23f2-5e7d-421b-ddc2-3686b397ffcd"
      },
      "source": [
        "# For y range()\n",
        "\n",
        "algo = range(4,10,2)\n",
        "frutas = ['pera' , 'manzana' , 'aguacate' , 'kiwi' , 'platano' ]\n",
        "nombre = \"Braulio\"\n",
        "print(algo)\n",
        "\n",
        "for x in algo: #for (int x = 4;x<10;x=x+2)\n",
        "    print(x)\n",
        "\n",
        "for index in range(0,5,1):\n",
        "    print(frutas[index])\n",
        "\n",
        "    #FOR e iteraciones\n",
        "\n",
        "for fruit in frutas:\n",
        "    print( fruit )\n",
        "\n",
        "for letra in nombre:\n",
        "    print(letra.upper())"
      ],
      "execution_count": null,
      "outputs": [
        {
          "output_type": "stream",
          "name": "stdout",
          "text": [
            "range(4, 10, 2)\n",
            "4\n",
            "6\n",
            "8\n",
            "pera\n",
            "manzana\n",
            "aguacate\n",
            "kiwi\n",
            "platano\n",
            "pera\n",
            "manzana\n",
            "aguacate\n",
            "kiwi\n",
            "platano\n",
            "B\n",
            "R\n",
            "A\n",
            "U\n",
            "L\n",
            "I\n",
            "O\n"
          ]
        }
      ]
    },
    {
      "cell_type": "code",
      "metadata": {
        "colab": {
          "base_uri": "https://localhost:8080/"
        },
        "id": "z_pjs3gOX7aJ",
        "outputId": "ea005900-0715-48b7-ba5c-dcc38c532059"
      },
      "source": [
        "# while\n",
        "\n",
        "#Hacer un programa que imprima del 1 al 10\n",
        "control = 1\n",
        "\n",
        "while control <= 10:\n",
        "    print( control )\n",
        "    control += 1\n"
      ],
      "execution_count": null,
      "outputs": [
        {
          "output_type": "stream",
          "name": "stdout",
          "text": [
            "1\n",
            "2\n",
            "3\n",
            "4\n",
            "5\n",
            "6\n",
            "7\n",
            "8\n",
            "9\n",
            "10\n"
          ]
        }
      ]
    },
    {
      "cell_type": "markdown",
      "metadata": {
        "id": "LC7T9QbrY5Wn"
      },
      "source": [
        "# Funciones\n",
        "\n",
        "Una funcion es un segmento de codigo que recibe, cero o mas valores de entrada, realiza una o un conjunto de operaciones de forma interna y regresa un solo tipo de datos, aunque ese valor sea None (void)\n",
        "\n",
        "Las funciones se declaran con la palabra **def**"
      ]
    },
    {
      "cell_type": "code",
      "metadata": {
        "colab": {
          "base_uri": "https://localhost:8080/"
        },
        "id": "0P4hOs0nZmKe",
        "outputId": "b6925409-516c-401b-c42c-ab1706c58bb2"
      },
      "source": [
        "# funcion suma\n",
        "\n",
        "def suma (a , b):\n",
        "    c = 0\n",
        "    c = a + b\n",
        "    return c\n",
        "\n",
        "print( suma( 4 , 5))\n",
        "\n",
        "#funcion que salude personas\n",
        "\n",
        "def saludar( nombre ):\n",
        "    print(f\"hola {nombre}, ¿como estas?\")\n",
        "\n",
        "saludar(\"Braulio\")\n",
        "nombre = \"Braulio\"\n",
        "saludar(nombre)\n",
        "\n",
        "res = saludar(nombre)\n",
        "print(res)"
      ],
      "execution_count": null,
      "outputs": [
        {
          "output_type": "stream",
          "name": "stdout",
          "text": [
            "9\n",
            "hola Braulio, ¿como estas?\n",
            "hola Braulio, ¿como estas?\n",
            "hola Braulio, ¿como estas?\n",
            "None\n"
          ]
        }
      ]
    },
    {
      "cell_type": "markdown",
      "metadata": {
        "id": "yJFs9IspJQBh"
      },
      "source": [
        "# default y funciones\n",
        "Hay ocaciones que es necesario declarar valores por defecto en los argumentos de una funcion"
      ]
    },
    {
      "cell_type": "code",
      "metadata": {
        "colab": {
          "base_uri": "https://localhost:8080/"
        },
        "id": "rmXsfoU9JcNh",
        "outputId": "85c82bda-4952-4e8f-8ec2-64b1251db8b4"
      },
      "source": [
        "def saludar( nombre , veces=5 ):\n",
        "    for x in range( veces ):\n",
        "        print(f\"{x}.- hola { nombre } \")\n",
        "\n",
        "saludar(\"Braulio\" )\n",
        "\n",
        "#Argumento con llamadas no posicionales\n",
        "\n",
        "saludar( veces=6, nombre=\"Braulio\")"
      ],
      "execution_count": null,
      "outputs": [
        {
          "output_type": "stream",
          "name": "stdout",
          "text": [
            "0.- hola Braulio \n",
            "1.- hola Braulio \n",
            "2.- hola Braulio \n",
            "3.- hola Braulio \n",
            "4.- hola Braulio \n",
            "0.- hola Braulio \n",
            "1.- hola Braulio \n",
            "2.- hola Braulio \n",
            "3.- hola Braulio \n",
            "4.- hola Braulio \n",
            "5.- hola Braulio \n"
          ]
        }
      ]
    },
    {
      "cell_type": "markdown",
      "metadata": {
        "id": "00A3eUgIbYL2"
      },
      "source": [
        "Recordar ver funciones avanzadas\n",
        "\n",
        "# listas, diccionarios, tuplas y sets(conjuntos)\n",
        "\n"
      ]
    },
    {
      "cell_type": "markdown",
      "metadata": {
        "id": "iqTtOZCkMDLZ"
      },
      "source": [
        "#listas\n",
        "Son esteucturas de datos declaradas en python, funcionan como los arreglos en Java y C, con algunas diferencias.\n",
        "\n",
        "* Usan el selector [   ]\n",
        "* Estructura secuencial (0 ... n)\n",
        "* Son mutables\n",
        "* Puede contener valores de diferente tipo: [1 ,\"manzana\", true, 1.23 ]\n",
        "*Pueden ser anidados (multidimensional)\n",
        "* Se crean usando [  ] y list()"
      ]
    },
    {
      "cell_type": "code",
      "metadata": {
        "colab": {
          "base_uri": "https://localhost:8080/"
        },
        "id": "Mu0eUsOhM8mJ",
        "outputId": "58d056fe-be02-47ff-aa52-d0238355ffab"
      },
      "source": [
        "frutas = [ \"pera\" , \"lima\" , \"limon\" , \"kiwi\" , \"manzana\"]\n",
        "print(frutas)\n",
        "print( frutas[1] )\n",
        "frutas[1] = \"mango\"\n",
        "print(frutas)\n",
        "persona = [\"Braulio\", 1.78 , 19 , False , 70.5 , \"ICO\" ]\n",
        "print(persona)\n",
        "print(persona[-1])\n",
        "\n",
        "numeros = [2,4,6,8,10,12,14,16,18,20]\n",
        "print(numeros)\n",
        "print( numeros[4:7])"
      ],
      "execution_count": null,
      "outputs": [
        {
          "output_type": "stream",
          "name": "stdout",
          "text": [
            "['pera', 'lima', 'limon', 'kiwi', 'manzana']\n",
            "lima\n",
            "['pera', 'mango', 'limon', 'kiwi', 'manzana']\n",
            "['Braulio', 1.78, 19, False, 70.5, 'ICO']\n",
            "ICO\n",
            "[2, 4, 6, 8, 10, 12, 14, 16, 18, 20]\n",
            "[10, 12, 14]\n"
          ]
        }
      ]
    },
    {
      "cell_type": "code",
      "metadata": {
        "colab": {
          "base_uri": "https://localhost:8080/"
        },
        "id": "P1pzz8dsPKUA",
        "outputId": "2ca1d615-c1df-4f0c-cb9e-d5a17ee131e3"
      },
      "source": [
        "#listas multi dimencionales\n",
        "\n",
        "bds=[ \"mysql\" , \"oracle\" , \"BD2\" , \"Mongo\" , \"SQLite\" ]\n",
        "leng_prog = [\"C\" , \"Java\" , \"JS\" , \"C++\" , \"C#\" , \"python\" ]\n",
        "tecnologias = [ bds , leng_prog ]\n",
        "\n",
        "print( tecnologias )\n",
        "\"\"\"\n",
        "[\n",
        "    [['mysql', 'Oracle', 'BD2', 'Mongo', 'SQLite'], \n",
        "    ['C', 'Java', 'JS', 'C++', 'C#', 'Python']]\n",
        "]\n",
        "\"\"\"\n",
        "print(tecnologias[1][3]) # c++\n",
        "print(tecnologias[0][4]) #Sqlite\n",
        "print(tecnologias[1][2:5])\n"
      ],
      "execution_count": null,
      "outputs": [
        {
          "output_type": "stream",
          "name": "stdout",
          "text": [
            "[['mysql', 'oracle', 'BD2', 'Mongo', 'SQLite'], ['C', 'Java', 'JS', 'C++', 'C#', 'python']]\n",
            "C++\n",
            "SQLite\n",
            "['JS', 'C++', 'C#']\n"
          ]
        }
      ]
    },
    {
      "cell_type": "markdown",
      "metadata": {
        "id": "AZYnGunQSty3"
      },
      "source": [
        "# la clase list\n",
        "\n",
        "El tipo de dato list en realidad es una clase que tiene metodos"
      ]
    },
    {
      "cell_type": "code",
      "metadata": {
        "colab": {
          "base_uri": "https://localhost:8080/"
        },
        "id": "SXrlh6W7S4k9",
        "outputId": "f131c4d1-279c-4198-eba8-539ca17132e1"
      },
      "source": [
        "numeros = [100, 23 , 45 , 23 , 55 , 1 , 22 , 101 , 99 , 10 , 13]\n",
        "type( numeros )\n",
        "dir(  numeros )\n",
        "print(numeros.sort() )\n",
        "print(numeros)\n",
        "#Eliminar elemto de un arreglo (dos formas)\n",
        "#utilizando el metodo remove\n",
        "numeros.remove(55)\n",
        "print(numeros)\n",
        "#forma 2 Utilizando el operador del\n",
        "\n",
        "del numeros[3]\n",
        "print( numeros )\n",
        "\n",
        "#append agrega elemtos al final\n",
        "\n",
        "numeros.append(0)\n",
        "numeros.append(33)\n",
        "numeros.sort()\n",
        "numeros.reverse()\n",
        "print( numeros )\n",
        "numeros.insert(3 , 60)\n",
        "print(numeros)\n",
        "n = numeros.pop()\n",
        "print(n)\n",
        "print( numeros )\n",
        "n = numeros.pop(1)\n",
        "print(n)\n",
        "print( numeros )\n",
        "\n",
        "mas_numeros = [400,500,600,700]\n",
        "numeros.extend(mas_numeros)\n",
        "print(numeros)\n",
        "#numeros.clear()\n",
        "#print(numeros)\n",
        "\n",
        "#listas y la estructura de control for\n",
        "\n",
        "for num in numeros:\n",
        "    print(f\"-->{num}<--\")\n"
      ],
      "execution_count": null,
      "outputs": [
        {
          "output_type": "stream",
          "name": "stdout",
          "text": [
            "None\n",
            "[1, 10, 13, 22, 23, 23, 45, 55, 99, 100, 101]\n",
            "[1, 10, 13, 22, 23, 23, 45, 99, 100, 101]\n",
            "[1, 10, 13, 23, 23, 45, 99, 100, 101]\n",
            "[101, 100, 99, 45, 33, 23, 23, 13, 10, 1, 0]\n",
            "[101, 100, 99, 60, 45, 33, 23, 23, 13, 10, 1, 0]\n",
            "0\n",
            "[101, 100, 99, 60, 45, 33, 23, 23, 13, 10, 1]\n",
            "100\n",
            "[101, 99, 60, 45, 33, 23, 23, 13, 10, 1]\n",
            "[101, 99, 60, 45, 33, 23, 23, 13, 10, 1, 400, 500, 600, 700]\n",
            "-->101<--\n",
            "-->99<--\n",
            "-->60<--\n",
            "-->45<--\n",
            "-->33<--\n",
            "-->23<--\n",
            "-->23<--\n",
            "-->13<--\n",
            "-->10<--\n",
            "-->1<--\n",
            "-->400<--\n",
            "-->500<--\n",
            "-->600<--\n",
            "-->700<--\n"
          ]
        }
      ]
    },
    {
      "cell_type": "markdown",
      "metadata": {
        "id": "yUzRBPmFlO6Z"
      },
      "source": [
        "# TUPLAS\n",
        "\n",
        "- Estructura de dato lineal\n",
        "- Se declaron con (    )\n",
        "- Son **inmutables**\n",
        "- Usan menos espacio en memoria\n",
        "- Son utiles para declarar valores de consulta\n",
        "-Fuera de eso, las demas caracteristicas son ls mismas que las listas\n"
      ]
    },
    {
      "cell_type": "code",
      "metadata": {
        "colab": {
          "base_uri": "https://localhost:8080/"
        },
        "id": "BKaO0VFjmP3g",
        "outputId": "ab1f5afa-cffa-41a0-ff0d-52f96d9dac87"
      },
      "source": [
        "datos_conexion = (\"123.234.145.23\" , \"Braulio\" , \"Braguito09\")\n",
        "print(datos_conexion[0])\n",
        "#datos_conexion[0] = \"127.0.0.1\"\n",
        "dir(datos_conexion)"
      ],
      "execution_count": null,
      "outputs": [
        {
          "output_type": "stream",
          "name": "stdout",
          "text": [
            "123.234.145.23\n"
          ]
        },
        {
          "output_type": "execute_result",
          "data": {
            "text/plain": [
              "['__add__',\n",
              " '__class__',\n",
              " '__contains__',\n",
              " '__delattr__',\n",
              " '__dir__',\n",
              " '__doc__',\n",
              " '__eq__',\n",
              " '__format__',\n",
              " '__ge__',\n",
              " '__getattribute__',\n",
              " '__getitem__',\n",
              " '__getnewargs__',\n",
              " '__gt__',\n",
              " '__hash__',\n",
              " '__init__',\n",
              " '__init_subclass__',\n",
              " '__iter__',\n",
              " '__le__',\n",
              " '__len__',\n",
              " '__lt__',\n",
              " '__mul__',\n",
              " '__ne__',\n",
              " '__new__',\n",
              " '__reduce__',\n",
              " '__reduce_ex__',\n",
              " '__repr__',\n",
              " '__rmul__',\n",
              " '__setattr__',\n",
              " '__sizeof__',\n",
              " '__str__',\n",
              " '__subclasshook__',\n",
              " 'count',\n",
              " 'index']"
            ]
          },
          "metadata": {},
          "execution_count": 29
        }
      ]
    },
    {
      "cell_type": "markdown",
      "metadata": {
        "id": "hxbFyFSZX-d9"
      },
      "source": [
        "#Diccionarios\n",
        "\n",
        "* Estructura no lineal\n",
        "* Formada por pares llave-valor\n",
        "{\"key\" : valor}\n",
        "* Donde valor puede ser cualquier tipo, int, float, list, diccionario\n",
        "* No se selecciona con [ ] x\n",
        "+ Se selecciona con['llave']\n",
        "* Su selector es por llave (key)\n",
        "* Son mutables"
      ]
    },
    {
      "cell_type": "code",
      "metadata": {
        "colab": {
          "base_uri": "https://localhost:8080/"
        },
        "id": "95PpLWSpYoYw",
        "outputId": "5e2b2ba8-e67b-43e4-8e1f-7b403aa6d048"
      },
      "source": [
        "persona = { \"nombre\" : \"jose\", \"edad\" : 19 , \"estatura\" : 1.78 }\n",
        "print(persona)\n",
        "print(f\"La estatura es {persona['estatura']} metros\")\n",
        "estudiante = {\n",
        "\"nombre\" : { \"nombres\" : [\"Juan\", \"Jose\"] ,\n",
        "\"paterno\" : \"Pérez\" ,\n",
        "\"materno\" : \" Garcia\"\n",
        "} ,\n",
        "\"edad\" : 19 ,\n",
        "\"estatura\" : 1.7,\n",
        "\"carrera\" : {\n",
        "\"escuala\" : \"UNAM FES Aragón\",\n",
        "\"Carrera\" : \"ICO\",\n",
        "\"semestre\" : 2\n",
        "},\n",
        "\"direccion\" : {\n",
        "\"calle\" : \"Colorines\",\n",
        "\"num_exterior\" : 34,\n",
        "\"interior\" : \"apartmento B\",\n",
        "\"colonia\" : \"Aragon\",\n",
        "},\n",
        "\"telefonos\" : {\n",
        "\"casa\" : 556463663,\n",
        "\"celular\" : [\"+5255767664\" , \"+52557373773\"]\n",
        "}\n",
        "\n",
        "}\n",
        "\n",
        "\n",
        "# ejemplo\n",
        "print(estudiante['telefonos']['casa'])\n",
        "print(f\"La estatura es  es : {estudiante['estatura']}\")\n",
        "print(estudiante['telefonos']['celular'][1])\n",
        "estudiante['direccion']['calle'] = 'pancho Lopez'\n",
        "print(estudiante['direccion'])\n",
        "estudiante['direccion']['colonia'] = 'Impulsora'\n",
        "print(estudiante['direccion'])\n",
        "\n",
        "#conbinar con la invocacion de metodos de los valores\n",
        "#mostrar el nombre del estudiante en mayusculas???\n",
        "\n",
        "print(estudiante['nombre']['nombres'][0].upper()) , \n",
        "print(estudiante['nombre']['nombres'][1].upper())\n",
        "\n",
        "#keys() muestra las llaves principales\n",
        "llaves = estudiante.keys()\n",
        "print(llaves)\n",
        "print(\"---------------------------\")\n",
        "for llave in llaves:\n",
        "    print(llave)\n",
        "    print(estudiante[llave])\n",
        "\n",
        "print(\"---------------------------\")\n",
        "\n",
        "#values() muestra los valores de las llaves\n",
        "vals = estudiante.values()\n",
        "for val in vals:\n",
        "    print(val)\n",
        "\n",
        "print(\"---------------------------\")\n",
        "#items() nos regresa una lista de tuplas (llave-valor)\n",
        "elems = estudiante.items()\n",
        "print(elems)\n",
        "\n",
        "for par in elems:\n",
        "    #print(par)\n",
        "    print(par[1])"
      ],
      "execution_count": null,
      "outputs": [
        {
          "output_type": "stream",
          "name": "stdout",
          "text": [
            "{'nombre': 'jose', 'edad': 19, 'estatura': 1.78}\n",
            "La estatura es 1.78 metros\n",
            "556463663\n",
            "La estatura es  es : 1.7\n",
            "+52557373773\n",
            "{'calle': 'pancho Lopez', 'num_exterior': 34, 'interior': 'apartmento B', 'colonia': 'Aragon'}\n",
            "{'calle': 'pancho Lopez', 'num_exterior': 34, 'interior': 'apartmento B', 'colonia': 'Impulsora'}\n",
            "JUAN\n",
            "JOSE\n",
            "dict_keys(['nombre', 'edad', 'estatura', 'carrera', 'direccion', 'telefonos'])\n",
            "---------------------------\n",
            "nombre\n",
            "{'nombres': ['Juan', 'Jose'], 'paterno': 'Pérez', 'materno': ' Garcia'}\n",
            "edad\n",
            "19\n",
            "estatura\n",
            "1.7\n",
            "carrera\n",
            "{'escuala': 'UNAM FES Aragón', 'Carrera': 'ICO', 'semestre': 2}\n",
            "direccion\n",
            "{'calle': 'pancho Lopez', 'num_exterior': 34, 'interior': 'apartmento B', 'colonia': 'Impulsora'}\n",
            "telefonos\n",
            "{'casa': 556463663, 'celular': ['+5255767664', '+52557373773']}\n",
            "---------------------------\n",
            "{'nombres': ['Juan', 'Jose'], 'paterno': 'Pérez', 'materno': ' Garcia'}\n",
            "19\n",
            "1.7\n",
            "{'escuala': 'UNAM FES Aragón', 'Carrera': 'ICO', 'semestre': 2}\n",
            "{'calle': 'pancho Lopez', 'num_exterior': 34, 'interior': 'apartmento B', 'colonia': 'Impulsora'}\n",
            "{'casa': 556463663, 'celular': ['+5255767664', '+52557373773']}\n",
            "---------------------------\n",
            "dict_items([('nombre', {'nombres': ['Juan', 'Jose'], 'paterno': 'Pérez', 'materno': ' Garcia'}), ('edad', 19), ('estatura', 1.7), ('carrera', {'escuala': 'UNAM FES Aragón', 'Carrera': 'ICO', 'semestre': 2}), ('direccion', {'calle': 'pancho Lopez', 'num_exterior': 34, 'interior': 'apartmento B', 'colonia': 'Impulsora'}), ('telefonos', {'casa': 556463663, 'celular': ['+5255767664', '+52557373773']})])\n",
            "{'nombres': ['Juan', 'Jose'], 'paterno': 'Pérez', 'materno': ' Garcia'}\n",
            "19\n",
            "1.7\n",
            "{'escuala': 'UNAM FES Aragón', 'Carrera': 'ICO', 'semestre': 2}\n",
            "{'calle': 'pancho Lopez', 'num_exterior': 34, 'interior': 'apartmento B', 'colonia': 'Impulsora'}\n",
            "{'casa': 556463663, 'celular': ['+5255767664', '+52557373773']}\n"
          ]
        }
      ]
    },
    {
      "cell_type": "markdown",
      "metadata": {
        "id": "jqCCgBEEo1DH"
      },
      "source": [
        "# Funciones 2da parte (El rencuentro)\n",
        "\n",
        "### Declarar funciones convinandola co **tuplas**\n",
        "\n",
        "Se puede recibir una lista de arumentos dinamica que se almacenara en una dupla. Para ello se utiliza un oprador especial que es '*' en la declaracion de la funcion.\n",
        "\n",
        "´\n",
        "definir mi funcion(*algo)\n",
        "     print(algo)\n",
        "´"
      ]
    },
    {
      "cell_type": "code",
      "metadata": {
        "colab": {
          "base_uri": "https://localhost:8080/"
        },
        "id": "TKq5BT5jp5T1",
        "outputId": "d26ad933-36a6-4364-ae51-4ffc88242529"
      },
      "source": [
        "def mi_funcion( *argumentos):\n",
        "    print(argumentos)\n",
        "\n",
        "mi_funcion(1,2,3, \"hola\", 3.14) #los argumento que queramos mandar\n",
        "\n",
        "def suma_v2( *vals ):\n",
        "    suma = 0 \n",
        "    for valor in vals:\n",
        "        suma += valor\n",
        "    print(suma)\n",
        "\n",
        "suma_v2(5,4,2)"
      ],
      "execution_count": null,
      "outputs": [
        {
          "output_type": "stream",
          "name": "stdout",
          "text": [
            "(1, 2, 3, 'hola', 3.14)\n",
            "11\n"
          ]
        }
      ]
    },
    {
      "cell_type": "markdown",
      "metadata": {
        "id": "v_GB7i73sZBa"
      },
      "source": [
        "### declarar funciones declarandolas con diccionarios\n",
        "\n",
        "´\n",
        "def mi_funcion(**argumentos):\n",
        "print(argumentos) #argumentos es un diccionario"
      ]
    },
    {
      "cell_type": "code",
      "metadata": {
        "colab": {
          "base_uri": "https://localhost:8080/"
        },
        "id": "F9UtUN4bsiGC",
        "outputId": "b7779d55-f49c-40e3-c9d5-a1eb2156beb5"
      },
      "source": [
        "def mi_funcion( **argumentos):\n",
        "    print(argumentos)\n",
        "\n",
        "mi_funcion( nombre=\"jose\" , edad=19 ,  )"
      ],
      "execution_count": null,
      "outputs": [
        {
          "output_type": "stream",
          "name": "stdout",
          "text": [
            "{'nombre': 'jose', 'edad': 19}\n"
          ]
        }
      ]
    },
    {
      "cell_type": "markdown",
      "metadata": {
        "id": "pdHpdT9Yt-Of"
      },
      "source": [
        "# tarea\n",
        "hacer un programa que permita levantar la comanda de un restaurante, de la forma :\n",
        "\n",
        "´\n",
        "menu_select(masa=3,comensal=2,entrada=\"ensalada verde\", medio=\"crema de zanahoria\", fuerte=\"filete\"\n",
        "adicionales=\"filetes termino medio, la ensalada sin ningun tipo de semilla, adereso ranch\")\n",
        "\n",
        "el resultado debe ser asi:\n",
        "\n",
        "\n",
        "funcion del chicharronero\n",
        "´\n"
      ]
    },
    {
      "cell_type": "markdown",
      "metadata": {
        "id": "SMxBNx6ZKj0T"
      },
      "source": [
        "# Modulos\n",
        "\n",
        "Un modulo en pyrhon es equivalente a un package en java o un archivo .H en el lenguaje c.\n",
        "\n",
        "En el declaras codigo que quieras llamar varias veces, este codigo debe de estar empaquetado en funciones"
      ]
    },
    {
      "cell_type": "code",
      "metadata": {
        "colab": {
          "base_uri": "https://localhost:8080/"
        },
        "id": "PMYa3AwEMAIQ",
        "outputId": "a0da795e-e53b-482a-fbc3-991d8f372ccf"
      },
      "source": [
        "\"\"\"\n",
        "Esto es mimodulo.py\n",
        "def mi_suma(a , b):\n",
        "    print(\"Haciendo una suma\")\n",
        "    print(f\"la suma de {a} + {b} = {a+b}\")\n",
        "\n",
        "def mi_print( mensaje ):\n",
        "    print( mensaje.upper() )\n",
        "\n",
        "def al_reves( mensaje ):\n",
        "    print(mensaje[::-1] )\n",
        "\"\"\"\n",
        "import mimodulo\n",
        "\n",
        "mimodulo.mi_suma( 3 , 5)\n",
        "\n",
        "mimodulo.mi_print(\"Hola prro\")\n",
        "mimodulo.al_reves(\"hola prro\")"
      ],
      "execution_count": null,
      "outputs": [
        {
          "output_type": "stream",
          "name": "stdout",
          "text": [
            "Haciendo una suma\n",
            "la suma de 3 + 5 = 8\n",
            "HOLA PRRO\n",
            "orrp aloh\n"
          ]
        }
      ]
    },
    {
      "cell_type": "code",
      "metadata": {
        "colab": {
          "base_uri": "https://localhost:8080/"
        },
        "id": "GoJJyPQSQ7Q4",
        "outputId": "794fdd28-d442-4ac8-bbb2-8af29bced0fa"
      },
      "source": [
        "from mimodulo import mi_print\n",
        "mi_print(\"Hola de nuevo mi chavo\")\n",
        "\n",
        "from mimodulo import mi_suma\n",
        "mi_suma( 3 , 4 )\n",
        "\n",
        "from mimodulo import al_reves\n",
        "al_reves(\"caracoles\")"
      ],
      "execution_count": null,
      "outputs": [
        {
          "output_type": "stream",
          "name": "stdout",
          "text": [
            "HOLA DE NUEVO MI CHAVO\n",
            "Haciendo una suma\n",
            "la suma de 3 + 4 = 7\n",
            "selocarac\n"
          ]
        }
      ]
    },
    {
      "cell_type": "code",
      "metadata": {
        "colab": {
          "base_uri": "https://localhost:8080/"
        },
        "id": "1khSxUkrSAWQ",
        "outputId": "0fbf05b4-d752-4fea-e289-7aea8bb7235f"
      },
      "source": [
        "import sys\n",
        "#dir (sys)\n",
        "print( sys.path )"
      ],
      "execution_count": null,
      "outputs": [
        {
          "output_type": "stream",
          "name": "stdout",
          "text": [
            "['', '/content', '/env/python', '/usr/lib/python37.zip', '/usr/lib/python3.7', '/usr/lib/python3.7/lib-dynload', '/usr/local/lib/python3.7/dist-packages', '/usr/lib/python3/dist-packages', '/usr/local/lib/python3.7/dist-packages/IPython/extensions', '/root/.ipython']\n"
          ]
        }
      ]
    },
    {
      "cell_type": "code",
      "metadata": {
        "colab": {
          "base_uri": "https://localhost:8080/"
        },
        "id": "bk4H9GLFTyrY",
        "outputId": "88381570-bf32-49a1-8c86-4dc007ffd7c6"
      },
      "source": [
        "!pip install simple-chalk"
      ],
      "execution_count": null,
      "outputs": [
        {
          "output_type": "stream",
          "name": "stdout",
          "text": [
            "Collecting simple-chalk\n",
            "  Downloading simple_chalk-0.1.0.tar.gz (13 kB)\n",
            "Building wheels for collected packages: simple-chalk\n",
            "  Building wheel for simple-chalk (setup.py) ... \u001b[?25l\u001b[?25hdone\n",
            "  Created wheel for simple-chalk: filename=simple_chalk-0.1.0-py3-none-any.whl size=22163 sha256=957dc5fc9209e0f58aef61a13519ac83c5e31417b41e1bbbde11939cade461e9\n",
            "  Stored in directory: /root/.cache/pip/wheels/24/e2/84/d54838032016039eef79df1137b91defaa6db068d825dfcdcd\n",
            "Successfully built simple-chalk\n",
            "Installing collected packages: simple-chalk\n",
            "Successfully installed simple-chalk-0.1.0\n"
          ]
        }
      ]
    },
    {
      "cell_type": "code",
      "metadata": {
        "colab": {
          "base_uri": "https://localhost:8080/"
        },
        "id": "lCNZLFpVUWv1",
        "outputId": "a2564b76-583e-4ecb-fa67-50e3e44e89cf"
      },
      "source": [
        "from simple_chalk import *\n",
        "print(chalk.blue(\"Texto en azul\"))\n",
        "whyNot = green.bgWhite.yellow.bgGray\n",
        "print(whyNot(\"this is red text with a gray background\"))\n",
        "verde_sobre_negro = black.bgBlue\n",
        "print(verde_sobre_negro(\"test\"))"
      ],
      "execution_count": null,
      "outputs": [
        {
          "output_type": "stream",
          "name": "stdout",
          "text": [
            "\u001b[34mTexto en azul\u001b[0m\n",
            "\u001b[33;100mthis is red text with a gray background\u001b[0m\n",
            "\u001b[30;44mtest\u001b[0m\n"
          ]
        }
      ]
    },
    {
      "cell_type": "markdown",
      "metadata": {
        "id": "Wsc0td2_XJM8"
      },
      "source": [
        "# Archivos\n",
        "\n",
        "Para abrir un archivo se utiliza la funcion open que va a recivir dos cadenas ('nombre''AB')\n",
        "\n",
        "nombre = La ruta del achivo\n",
        "A = modo de apertura(w, r, a, ...)\n",
        "B Formato t (texto) o b (binario)\n",
        "\n",
        "Para leer tenemos las funciones \n",
        "\n",
        "- read()\n",
        "- readline()\n",
        "- readlines()\n"
      ]
    },
    {
      "cell_type": "code",
      "metadata": {
        "colab": {
          "base_uri": "https://localhost:8080/"
        },
        "id": "mWDFrdHsY1nR",
        "outputId": "f0c6e7e8-de74-449a-8995-89c849c6922f"
      },
      "source": [
        "cat datos.dat"
      ],
      "execution_count": null,
      "outputs": [
        {
          "output_type": "stream",
          "name": "stdout",
          "text": [
            "1,2,3,4,5,6,7\r\n",
            "8,9,10\r\n",
            "11,12\r\n",
            "13"
          ]
        }
      ]
    },
    {
      "cell_type": "code",
      "metadata": {
        "colab": {
          "base_uri": "https://localhost:8080/"
        },
        "id": "z-m9F5MKYRZb",
        "outputId": "58791bc5-4bf8-4b22-e992-dc419a6db8af"
      },
      "source": [
        "\"\"\"\n",
        "1,2,3,4,5,6,7\n",
        "8,9,10\n",
        "11,12\n",
        "13\n",
        "\"\"\"\n",
        "archivo = open('datos.dat','rt')\n",
        "info = archivo.read()\n",
        "print(info)\n",
        "\n",
        "print(\"--------------\")\n",
        "#Readline() Lee solo la primera linea y el puntero se queda antes del salto de linea\n",
        "archivo = open('datos.dat','rt')\n",
        "info = archivo.readline()\n",
        "print(info)\n",
        "info = archivo.readline()\n",
        "print(info)\n",
        "\n",
        "print(\"--------------\")\n",
        "#Readlines()\n",
        "archivo = open('datos.dat','rt')\n",
        "info = archivo.readlines()\n",
        "print(info)\n",
        "for index in range(len(info)):\n",
        "    info[index] = info[index].strip()\n",
        "\n",
        "print(info)\n",
        "\n",
        "numeros = []\n",
        "\n",
        "for grupo in info:\n",
        "    for numero in grupo.split(','):\n",
        "        numeros.append( int(numero))\n",
        "print(numeros)\n",
        "\n",
        "suma = 0\n",
        "for num in numeros:\n",
        "    suma += num\n",
        "\n",
        "print( suma )"
      ],
      "execution_count": null,
      "outputs": [
        {
          "output_type": "stream",
          "name": "stdout",
          "text": [
            "1,2,3,4,5,6,7\n",
            "8,9,10\n",
            "11,12\n",
            "13\n",
            "--------------\n",
            "1,2,3,4,5,6,7\n",
            "\n",
            "8,9,10\n",
            "\n",
            "--------------\n",
            "['1,2,3,4,5,6,7\\n', '8,9,10\\n', '11,12\\n', '13']\n",
            "['1,2,3,4,5,6,7', '8,9,10', '11,12', '13']\n",
            "[1, 2, 3, 4, 5, 6, 7, 8, 9, 10, 11, 12, 13]\n",
            "91\n"
          ]
        }
      ]
    },
    {
      "cell_type": "markdown",
      "metadata": {
        "id": "oWXqCRoKfAK1"
      },
      "source": [
        "#Programacion orientada a objetos con python\n",
        "\n",
        "La POO es un paradigma no soportado originado por python, maneja el paradigma imperativo.\n",
        "\n",
        "python simila la POO con la declaracion de clases y haciendo referencia a un objeto de forma circular. self en python es equivalente a this de java\n",
        "\n",
        "Forma 1\n",
        "\n",
        "class <nombre de la clase>:\n",
        "    <definicion de la clase>\n",
        "\n",
        "Forma 2\n",
        "\n",
        "class <nombre de la clase>(<super clase):\n",
        "    <Definicion de cuerpo de la clase>\n",
        "\n",
        "\n",
        "El constructor se define siempre con el metodo__init__()\n",
        "(Doble guion baje antes y despues de init)\n",
        "La declaracion de atributos se realiza por medio de el constructor\n",
        "\n",
        "Para hacer encapsulamiento de metodos o atributos se debe poner __ (DOBLE GION BAJO) previo a la declaracion del atrivuto "
      ]
    },
    {
      "cell_type": "code",
      "metadata": {
        "id": "Pfa67Vorhjzl"
      },
      "source": [
        "class persona: \n",
        "    def __init__(self, n , e , est ):\n",
        "        \n",
        "        self.__nombre = n\n",
        "        self.__edad = e\n",
        "        self.__estatura = est\n",
        "\n",
        "    def to_string( self ):\n",
        "        return \" Nombre: \" + self.__nombre + \" edad: \" + str(self.__edad) + \" estatura: \" + str(self.__estatura)\n",
        "\n",
        "    def set_estatura( self ,  nueva_est):\n",
        "         if nueva_est > 0.10 and nueva_est < 2.5:\n",
        "              self.__estatura = nueva_est\n",
        "         else:\n",
        "              print(\"Error: Esa estatura no es posible\")\n",
        "\n",
        "    def get_estatura( self ):\n",
        "        return self.__estatura \n"
      ],
      "execution_count": 55,
      "outputs": []
    },
    {
      "cell_type": "code",
      "metadata": {
        "colab": {
          "base_uri": "https://localhost:8080/"
        },
        "id": "CM-r1WTViv2_",
        "outputId": "b5410c07-a5aa-4678-a369-aa87dd3c13a7"
      },
      "source": [
        "per = persona(\"Jose \", 18 , 1.70)\n",
        "print(per.to_string()) \n",
        "\n",
        "#Encapsulamiento\n",
        "\n",
        "per.nombre = \"Braulio\" #Esto no se recomienda\n",
        "print(per.to_string()) \n",
        "\n",
        "#per.estatura = 3.9\n",
        "per.set_estatura(1.9)\n",
        "print(per.to_string()) \n",
        "\n",
        "print(\" estatura: \", end = \"\")\n",
        "print( per.get_estatura() )"
      ],
      "execution_count": 56,
      "outputs": [
        {
          "output_type": "stream",
          "name": "stdout",
          "text": [
            " Nombre: Jose  edad: 18 estatura: 1.7\n",
            " Nombre: Jose  edad: 18 estatura: 1.7\n",
            " Nombre: Jose  edad: 18 estatura: 1.9\n",
            " estatura: 1.9\n"
          ]
        }
      ]
    },
    {
      "cell_type": "code",
      "metadata": {
        "id": "619slkbBqr-l"
      },
      "source": [
        "class estudiante( persona ):\n",
        "    def __init__(self , nc , nombre , edad , est):\n",
        "        self.__num_cta = nc\n",
        "        super().__init__(nombre , edad , est)\n",
        "\n",
        "    def to_string( self ):\n",
        "        return super().to_string() + \" Numero de cuenta: \" + self.__num_cta"
      ],
      "execution_count": 60,
      "outputs": []
    },
    {
      "cell_type": "code",
      "metadata": {
        "colab": {
          "base_uri": "https://localhost:8080/"
        },
        "id": "feOsE5UQrnUu",
        "outputId": "2119945a-23c6-4c46-83e4-b38025d24015"
      },
      "source": [
        "est = estudiante (\"12343222\", \"Jose\" , 19 , 1.7, )\n",
        "print( est.to_string() )"
      ],
      "execution_count": 61,
      "outputs": [
        {
          "output_type": "stream",
          "name": "stdout",
          "text": [
            " Nombre: Jose edad: 19 estatura: 1.7 Numero de cuenta: 12343222\n"
          ]
        }
      ]
    }
  ]
}